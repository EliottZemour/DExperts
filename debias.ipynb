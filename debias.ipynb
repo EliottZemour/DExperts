{
 "cells": [
  {
   "cell_type": "code",
   "execution_count": 2,
   "metadata": {},
   "outputs": [],
   "source": [
    "import pandas as pd\n",
    "from pathlib import Path\n",
    "from generation.dexperts_generation import DExpertsGeneration"
   ]
  },
  {
   "cell_type": "code",
   "execution_count": 3,
   "metadata": {},
   "outputs": [],
   "source": [
    "dexperts = DExpertsGeneration(\n",
    "    base_model = \"gpt2\",\n",
    "    expert_model = \"eliolio/gpt2-biased-spring\",\n",
    "    antiexpert_model = 'gpt2',\n",
    "    tokenizer = \"gpt2\", \n",
    "    seed = 42,\n",
    ")"
   ]
  },
  {
   "cell_type": "code",
   "execution_count": null,
   "metadata": {},
   "outputs": [],
   "source": [
    "prompt = \"The woman worked as\""
   ]
  },
  {
   "cell_type": "code",
   "execution_count": null,
   "metadata": {},
   "outputs": [],
   "source": [
    "dexperts.generate(prompt=prompt, alpha=2.0, max_len=30)"
   ]
  },
  {
   "cell_type": "code",
   "execution_count": null,
   "metadata": {},
   "outputs": [],
   "source": []
  }
 ],
 "metadata": {
  "kernelspec": {
   "display_name": "Python 3.10.7 ('venv': venv)",
   "language": "python",
   "name": "python3"
  },
  "language_info": {
   "codemirror_mode": {
    "name": "ipython",
    "version": 3
   },
   "file_extension": ".py",
   "mimetype": "text/x-python",
   "name": "python",
   "nbconvert_exporter": "python",
   "pygments_lexer": "ipython3",
   "version": "3.10.7"
  },
  "orig_nbformat": 4,
  "vscode": {
   "interpreter": {
    "hash": "947f2307f45dd80efd00d42b84bbed2fcda85a9a19dcb54bf0880a7e73baab0f"
   }
  }
 },
 "nbformat": 4,
 "nbformat_minor": 2
}
