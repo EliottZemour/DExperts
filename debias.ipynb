{
 "cells": [
  {
   "cell_type": "code",
   "execution_count": 1,
   "metadata": {},
   "outputs": [],
   "source": [
    "import pandas as pd\n",
    "from pathlib import Path\n",
    "from generation.dexperts_generation import DExpertsGeneration"
   ]
  },
  {
   "cell_type": "code",
   "execution_count": 2,
   "metadata": {},
   "outputs": [],
   "source": [
    "dexperts_debiased = DExpertsGeneration(\n",
    "    base_model = \"gpt2\",\n",
    "    antiexpert_model = \"eliolio/gpt2-finetuned-redditbias\",\n",
    "    expert_model = 'gpt2',\n",
    "    tokenizer = \"gpt2\", \n",
    "    seed = 42,\n",
    ")\n",
    "\n",
    "dexperts_biased = DExpertsGeneration(\n",
    "    base_model = \"gpt2\",\n",
    "    expert_model = \"eliolio/gpt2-finetuned-redditbias\",\n",
    "    antiexpert_model = 'gpt2',\n",
    "    tokenizer = \"gpt2\", \n",
    "    seed = 42,\n",
    ")"
   ]
  },
  {
   "cell_type": "code",
   "execution_count": 18,
   "metadata": {},
   "outputs": [],
   "source": [
    "prompt = \"My mother used\""
   ]
  },
  {
   "cell_type": "code",
   "execution_count": 25,
   "metadata": {},
   "outputs": [
    {
     "data": {
      "text/plain": [
       "['My mother used to cook but is still cooking!']"
      ]
     },
     "execution_count": 25,
     "metadata": {},
     "output_type": "execute_result"
    }
   ],
   "source": [
    "dexperts_biased.generate(\n",
    "    prompt=prompt,\n",
    "    alpha=2.0,\n",
    "    max_len=30,\n",
    ")\n"
   ]
  },
  {
   "cell_type": "code",
   "execution_count": 26,
   "metadata": {},
   "outputs": [
    {
     "data": {
      "text/plain": [
       "['My mother used to call me \\'Crocker.\\'\"\\n\\n\"I wouldn\\'t call her \\'Crocker,\\'\" Rouse\\'s mother testified. \"It was almost insulting,']"
      ]
     },
     "execution_count": 26,
     "metadata": {},
     "output_type": "execute_result"
    }
   ],
   "source": [
    "dexperts_debiased.generate(\n",
    "    prompt=prompt,\n",
    "    alpha=1.0,\n",
    "    max_len=30\n",
    ")"
   ]
  },
  {
   "cell_type": "code",
   "execution_count": 29,
   "metadata": {},
   "outputs": [
    {
     "ename": "FileNotFoundError",
     "evalue": "[Errno 2] No such file or directory: 'results/test/bold_gender_dexperts_output.json'",
     "output_type": "error",
     "traceback": [
      "\u001b[0;31m---------------------------------------------------------------------------\u001b[0m",
      "\u001b[0;31mFileNotFoundError\u001b[0m                         Traceback (most recent call last)",
      "Cell \u001b[0;32mIn [29], line 1\u001b[0m\n\u001b[0;32m----> 1\u001b[0m \u001b[39mwith\u001b[39;00m \u001b[39mopen\u001b[39;49m(\u001b[39m\"\u001b[39;49m\u001b[39mresults/test/bold_\u001b[39;49m\u001b[39m\"\u001b[39;49m \u001b[39m+\u001b[39;49m \u001b[39m'\u001b[39;49m\u001b[39mgender\u001b[39;49m\u001b[39m'\u001b[39;49m \u001b[39m+\u001b[39;49m \u001b[39m\"\u001b[39;49m\u001b[39m_dexperts_output.json\u001b[39;49m\u001b[39m\"\u001b[39;49m, \u001b[39m\"\u001b[39;49m\u001b[39mw+\u001b[39;49m\u001b[39m\"\u001b[39;49m) \u001b[39mas\u001b[39;00m outfile:\n\u001b[1;32m      2\u001b[0m     \u001b[39mpass\u001b[39;00m\n",
      "\u001b[0;31mFileNotFoundError\u001b[0m: [Errno 2] No such file or directory: 'results/test/bold_gender_dexperts_output.json'"
     ]
    }
   ],
   "source": [
    "with open(\"results/test/bold_\" + 'gender' + \"_dexperts_output.json\", \"w\") as outfile:\n",
    "    pass\n"
   ]
  },
  {
   "cell_type": "code",
   "execution_count": null,
   "metadata": {},
   "outputs": [],
   "source": []
  }
 ],
 "metadata": {
  "kernelspec": {
   "display_name": "Python 3.10.7 ('venv': venv)",
   "language": "python",
   "name": "python3"
  },
  "language_info": {
   "codemirror_mode": {
    "name": "ipython",
    "version": 3
   },
   "file_extension": ".py",
   "mimetype": "text/x-python",
   "name": "python",
   "nbconvert_exporter": "python",
   "pygments_lexer": "ipython3",
   "version": "3.10.7"
  },
  "orig_nbformat": 4,
  "vscode": {
   "interpreter": {
    "hash": "947f2307f45dd80efd00d42b84bbed2fcda85a9a19dcb54bf0880a7e73baab0f"
   }
  }
 },
 "nbformat": 4,
 "nbformat_minor": 2
}
