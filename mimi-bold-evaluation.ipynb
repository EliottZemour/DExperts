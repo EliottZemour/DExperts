{
 "cells": [
  {
   "cell_type": "code",
   "execution_count": 1,
   "metadata": {},
   "outputs": [],
   "source": [
    "import evaluate\n",
    "import random\n",
    "import json\n",
    "import tqdm as tqdm"
   ]
  },
  {
   "cell_type": "code",
   "execution_count": 22,
   "metadata": {},
   "outputs": [],
   "source": [
    "#Helper functions\n",
    "def get_regard_labels(results):\n",
    "    #Given the list of regard scores, return the label whose score is the maximum \n",
    "    labels = []\n",
    "    for result in results:\n",
    "        labels.append(max(result, key=lambda x:x['score'])['label'])\n",
    "    return labels\n",
    "\n",
    "def get_regard_proportion(labels):\n",
    "    #Given a list of regard labels, return the proportion of text being classified as positive, negative, neutral, other in the following order\n",
    "    positive = sum([1 if x == 'positive' else 0 for x in labels])\n",
    "    negative = sum([1 if x == 'negative' else 0 for x in labels])\n",
    "    neutral = sum([1 if x == 'neutral' else 0 for x in labels])\n",
    "    other = sum([1 if x == 'other' else 0 for x in labels])\n",
    "    n_data = len(labels)\n",
    "\n",
    "    return positive/n_data, negative/n_data, neutral/n_data, other/n_data\n",
    "\n",
    "def get_toxic_ratio(tox):\n",
    "    #Given the list of toxicity score, return the ratio of inputs that is toxic.\n",
    "    #The input is considered toxic if the score is > 0.5\n",
    "    return sum([1 if tox[i] > 0.5 else 0 for i in range(len(tox))])/len(tox)\n"
   ]
  },
  {
   "cell_type": "code",
   "execution_count": 3,
   "metadata": {},
   "outputs": [],
   "source": [
    "f = open('bold_gender_dexperts_output.json')  \n",
    "\n",
    "# # returns JSON object as a dictionary\n",
    "data = json.load(f)"
   ]
  },
  {
   "cell_type": "code",
   "execution_count": 34,
   "metadata": {},
   "outputs": [],
   "source": [
    "regard = evaluate.load(\"regard\", \"compare\")"
   ]
  },
  {
   "cell_type": "code",
   "execution_count": 4,
   "metadata": {},
   "outputs": [
    {
     "data": {
      "text/plain": [
       "{'regard': [[{'label': 'neutral', 'score': 0.849643349647522},\n",
       "   {'label': 'positive', 'score': 0.10980390012264252},\n",
       "   {'label': 'negative', 'score': 0.024608461186289787},\n",
       "   {'label': 'other', 'score': 0.015944279730319977}]]}"
      ]
     },
     "execution_count": 4,
     "metadata": {},
     "output_type": "execute_result"
    }
   ],
   "source": [
    "regard.compute(data=[\"da\"])"
   ]
  },
  {
   "cell_type": "code",
   "execution_count": 18,
   "metadata": {},
   "outputs": [
    {
     "data": {
      "text/plain": [
       "1156"
      ]
     },
     "execution_count": 18,
     "metadata": {},
     "output_type": "execute_result"
    }
   ],
   "source": [
    "len(data['American_actresses'])"
   ]
  },
  {
   "cell_type": "code",
   "execution_count": 19,
   "metadata": {},
   "outputs": [
    {
     "data": {
      "text/plain": [
       "{'average_data_regard': {'positive': 0.5249906626356677,\n",
       "  'neutral': 0.35627636421837594,\n",
       "  'other': 0.05049494531945806,\n",
       "  'negative': 0.06823802663228445},\n",
       " 'average_references_regard': {'neutral': 0.3618687958368761,\n",
       "  'positive': 0.5363768508592254,\n",
       "  'other': 0.04778950077370389,\n",
       "  'negative': 0.053964851675156314}}"
      ]
     },
     "execution_count": 19,
     "metadata": {},
     "output_type": "execute_result"
    }
   ],
   "source": [
    "regard.compute(data = data['American_actors'][:1156], references = data['American_actresses'], aggregation='average')"
   ]
  },
  {
   "cell_type": "code",
   "execution_count": 39,
   "metadata": {},
   "outputs": [
    {
     "name": "stdout",
     "output_type": "stream",
     "text": [
      "gpt2\n",
      "American_actors regard proportions: {'average_regard': {'positive': 0.522671369390423, 'neutral': 0.35837908065968804, 'other': 0.05138809814536671, 'negative': 0.06756145145658365}}\n",
      "American_actresses regard proportions: {'average_regard': {'neutral': 0.3618687958368761, 'positive': 0.5363768508592254, 'other': 0.04778950077370389, 'negative': 0.053964851675156314}}\n"
     ]
    }
   ],
   "source": [
    "regard = evaluate.load(\"regard\")\n",
    "gender_regard_score = {}\n",
    "for subgroup, text in data.items():\n",
    "    gender_regard_score[subgroup] = regard.compute(data=text, aggregation='average')\n",
    "print(\"gpt2\")\n",
    "for subgroup in gender_regard_score:\n",
    "    # labels = get_regard_labels(gender_regard_score[subgroup]['regard'])\n",
    "    # print(f\"{subgroup} regard proportions: {get_regard_proportion(labels)}\")\n",
    "    print(f\"{subgroup} regard proportions: {gender_regard_score[subgroup]}\")"
   ]
  },
  {
   "cell_type": "code",
   "execution_count": 23,
   "metadata": {},
   "outputs": [
    {
     "name": "stdout",
     "output_type": "stream",
     "text": [
      "American_actors regard proportions: (0.5882352941176471, 0.06228373702422145, 0.3295847750865052, 0.019896193771626297)\n",
      "American_actresses regard proportions: (0.6029411764705882, 0.04671280276816609, 0.33304498269896193, 0.01730103806228374)\n"
     ]
    }
   ],
   "source": [
    "for subgroup in gender_regard_score:\n",
    "    labels = get_regard_labels(gender_regard_score[subgroup]['regard'])\n",
    "    print(f\"{subgroup} regard proportions: {get_regard_proportion(labels)}\")"
   ]
  },
  {
   "cell_type": "code",
   "execution_count": 30,
   "metadata": {},
   "outputs": [
    {
     "data": {
      "text/plain": [
       "[{'label': 'positive', 'score': 0.8343826532363892},\n",
       " {'label': 'neutral', 'score': 0.07981245964765549},\n",
       " {'label': 'other', 'score': 0.07164169102907181},\n",
       " {'label': 'negative', 'score': 0.014163133688271046}]"
      ]
     },
     "execution_count": 30,
     "metadata": {},
     "output_type": "execute_result"
    }
   ],
   "source": [
    "gender_regard_score['American_actors']['regard']"
   ]
  },
  {
   "cell_type": "code",
   "execution_count": 31,
   "metadata": {},
   "outputs": [],
   "source": [
    "from statistics import mean"
   ]
  },
  {
   "cell_type": "code",
   "execution_count": null,
   "metadata": {},
   "outputs": [],
   "source": [
    "ref_mean = {k: mean(v) for k, v in ref_regard.items()}"
   ]
  },
  {
   "cell_type": "code",
   "execution_count": 37,
   "metadata": {},
   "outputs": [
    {
     "data": {
      "text/plain": [
       "{'regard_difference': {'positive': 0.05777929238975055,\n",
       "  'neutral': -0.06632474549114706,\n",
       "  'other': 0.005823543528094888,\n",
       "  'negative': 0.002721911924891173}}"
      ]
     },
     "execution_count": 37,
     "metadata": {},
     "output_type": "execute_result"
    }
   ],
   "source": [
    "regard.compute(data = data['American_actors'][:10], references = data['American_actresses'][:10],)"
   ]
  },
  {
   "cell_type": "code",
   "execution_count": null,
   "metadata": {},
   "outputs": [],
   "source": []
  }
 ],
 "metadata": {
  "kernelspec": {
   "display_name": "Python 3.10.7 ('venv': venv)",
   "language": "python",
   "name": "python3"
  },
  "language_info": {
   "codemirror_mode": {
    "name": "ipython",
    "version": 3
   },
   "file_extension": ".py",
   "mimetype": "text/x-python",
   "name": "python",
   "nbconvert_exporter": "python",
   "pygments_lexer": "ipython3",
   "version": "3.10.7"
  },
  "orig_nbformat": 4,
  "vscode": {
   "interpreter": {
    "hash": "947f2307f45dd80efd00d42b84bbed2fcda85a9a19dcb54bf0880a7e73baab0f"
   }
  }
 },
 "nbformat": 4,
 "nbformat_minor": 2
}
